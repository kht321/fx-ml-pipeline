{
 "cells": [
  {
   "cell_type": "code",
   "execution_count": null,
   "id": "440eedbb",
   "metadata": {},
   "outputs": [
    {
     "name": "stdout",
     "output_type": "stream",
     "text": [
      "Collecting streamlit\n",
      "  Downloading streamlit-1.50.0-py3-none-any.whl.metadata (9.5 kB)\n",
      "Collecting altair!=5.4.0,!=5.4.1,<6,>=4.0 (from streamlit)\n",
      "  Downloading altair-5.5.0-py3-none-any.whl.metadata (11 kB)\n",
      "Requirement already satisfied: blinker<2,>=1.5.0 in /usr/local/lib/python3.9/site-packages (from streamlit) (1.9.0)\n",
      "Collecting cachetools<7,>=4.0 (from streamlit)\n",
      "  Downloading cachetools-6.2.1-py3-none-any.whl.metadata (5.5 kB)\n",
      "Requirement already satisfied: click<9,>=7.0 in /usr/local/lib/python3.9/site-packages (from streamlit) (8.1.8)\n",
      "Requirement already satisfied: numpy<3,>=1.23 in /usr/local/lib/python3.9/site-packages (from streamlit) (1.26.4)\n",
      "Requirement already satisfied: packaging<26,>=20 in /usr/local/lib/python3.9/site-packages (from streamlit) (25.0)\n",
      "Requirement already satisfied: pandas<3,>=1.4.0 in /usr/local/lib/python3.9/site-packages (from streamlit) (2.3.3)\n",
      "Requirement already satisfied: pillow<12,>=7.1.0 in /usr/local/lib/python3.9/site-packages (from streamlit) (11.3.0)\n",
      "Requirement already satisfied: protobuf<7,>=3.20 in /usr/local/lib/python3.9/site-packages (from streamlit) (6.32.1)\n",
      "Requirement already satisfied: pyarrow>=7.0 in /usr/local/lib/python3.9/site-packages (from streamlit) (17.0.0)\n",
      "Requirement already satisfied: requests<3,>=2.27 in /usr/local/lib/python3.9/site-packages (from streamlit) (2.32.5)\n",
      "Requirement already satisfied: tenacity<10,>=8.1.0 in /usr/local/lib/python3.9/site-packages (from streamlit) (8.5.0)\n",
      "Requirement already satisfied: toml<2,>=0.10.1 in /usr/local/lib/python3.9/site-packages (from streamlit) (0.10.2)\n",
      "Requirement already satisfied: typing-extensions<5,>=4.4.0 in /usr/local/lib/python3.9/site-packages (from streamlit) (4.15.0)\n",
      "Collecting watchdog<7,>=2.1.5 (from streamlit)\n",
      "  Downloading watchdog-6.0.0-py3-none-manylinux2014_x86_64.whl.metadata (44 kB)\n",
      "Collecting gitpython!=3.1.19,<4,>=3.0.7 (from streamlit)\n",
      "  Downloading gitpython-3.1.45-py3-none-any.whl.metadata (13 kB)\n",
      "Collecting pydeck<1,>=0.8.0b4 (from streamlit)\n",
      "  Downloading pydeck-0.9.1-py2.py3-none-any.whl.metadata (4.1 kB)\n",
      "Requirement already satisfied: tornado!=6.5.0,<7,>=6.0.3 in /usr/local/lib/python3.9/site-packages (from streamlit) (6.5.2)\n",
      "Requirement already satisfied: jinja2 in /usr/local/lib/python3.9/site-packages (from altair!=5.4.0,!=5.4.1,<6,>=4.0->streamlit) (3.1.6)\n",
      "Requirement already satisfied: jsonschema>=3.0 in /usr/local/lib/python3.9/site-packages (from altair!=5.4.0,!=5.4.1,<6,>=4.0->streamlit) (4.25.1)\n",
      "Requirement already satisfied: narwhals>=1.14.2 in /usr/local/lib/python3.9/site-packages (from altair!=5.4.0,!=5.4.1,<6,>=4.0->streamlit) (2.8.0)\n",
      "Collecting gitdb<5,>=4.0.1 (from gitpython!=3.1.19,<4,>=3.0.7->streamlit)\n",
      "  Downloading gitdb-4.0.12-py3-none-any.whl.metadata (1.2 kB)\n",
      "Collecting smmap<6,>=3.0.1 (from gitdb<5,>=4.0.1->gitpython!=3.1.19,<4,>=3.0.7->streamlit)\n",
      "  Downloading smmap-5.0.2-py3-none-any.whl.metadata (4.3 kB)\n",
      "Requirement already satisfied: python-dateutil>=2.8.2 in /usr/local/lib/python3.9/site-packages (from pandas<3,>=1.4.0->streamlit) (2.9.0.post0)\n",
      "Requirement already satisfied: pytz>=2020.1 in /usr/local/lib/python3.9/site-packages (from pandas<3,>=1.4.0->streamlit) (2025.2)\n",
      "Requirement already satisfied: tzdata>=2022.7 in /usr/local/lib/python3.9/site-packages (from pandas<3,>=1.4.0->streamlit) (2025.2)\n",
      "Requirement already satisfied: charset_normalizer<4,>=2 in /usr/local/lib/python3.9/site-packages (from requests<3,>=2.27->streamlit) (3.4.4)\n",
      "Requirement already satisfied: idna<4,>=2.5 in /usr/local/lib/python3.9/site-packages (from requests<3,>=2.27->streamlit) (3.11)\n",
      "Requirement already satisfied: urllib3<3,>=1.21.1 in /usr/local/lib/python3.9/site-packages (from requests<3,>=2.27->streamlit) (2.5.0)\n",
      "Requirement already satisfied: certifi>=2017.4.17 in /usr/local/lib/python3.9/site-packages (from requests<3,>=2.27->streamlit) (2025.10.5)\n",
      "Requirement already satisfied: MarkupSafe>=2.0 in /usr/local/lib/python3.9/site-packages (from jinja2->altair!=5.4.0,!=5.4.1,<6,>=4.0->streamlit) (3.0.3)\n",
      "Requirement already satisfied: attrs>=22.2.0 in /usr/local/lib/python3.9/site-packages (from jsonschema>=3.0->altair!=5.4.0,!=5.4.1,<6,>=4.0->streamlit) (25.4.0)\n",
      "Requirement already satisfied: jsonschema-specifications>=2023.03.6 in /usr/local/lib/python3.9/site-packages (from jsonschema>=3.0->altair!=5.4.0,!=5.4.1,<6,>=4.0->streamlit) (2025.9.1)\n",
      "Requirement already satisfied: referencing>=0.28.4 in /usr/local/lib/python3.9/site-packages (from jsonschema>=3.0->altair!=5.4.0,!=5.4.1,<6,>=4.0->streamlit) (0.36.2)\n",
      "Requirement already satisfied: rpds-py>=0.7.1 in /usr/local/lib/python3.9/site-packages (from jsonschema>=3.0->altair!=5.4.0,!=5.4.1,<6,>=4.0->streamlit) (0.27.1)\n",
      "Requirement already satisfied: six>=1.5 in /usr/local/lib/python3.9/site-packages (from python-dateutil>=2.8.2->pandas<3,>=1.4.0->streamlit) (1.17.0)\n",
      "Downloading streamlit-1.50.0-py3-none-any.whl (10.1 MB)\n",
      "\u001b[2K   \u001b[90m━━━━━━━━━━━━━━━━━━━━━━━━━━━━━━━━━━━━━━━━\u001b[0m \u001b[32m10.1/10.1 MB\u001b[0m \u001b[31m8.8 MB/s\u001b[0m  \u001b[33m0:00:01\u001b[0meta \u001b[36m0:00:01\u001b[0m\n",
      "\u001b[?25hDownloading altair-5.5.0-py3-none-any.whl (731 kB)\n",
      "\u001b[2K   \u001b[90m━━━━━━━━━━━━━━━━━━━━━━━━━━━━━━━━━━━━━━━━\u001b[0m \u001b[32m731.2/731.2 kB\u001b[0m \u001b[31m10.0 MB/s\u001b[0m  \u001b[33m0:00:00\u001b[0m\n",
      "\u001b[?25hDownloading cachetools-6.2.1-py3-none-any.whl (11 kB)\n",
      "Downloading gitpython-3.1.45-py3-none-any.whl (208 kB)\n",
      "Downloading gitdb-4.0.12-py3-none-any.whl (62 kB)\n",
      "Downloading pydeck-0.9.1-py2.py3-none-any.whl (6.9 MB)\n",
      "\u001b[2K   \u001b[90m━━━━━━━━━━━━━━━━━━━━━━━━━━━━━━━━━━━━━━━━\u001b[0m \u001b[32m6.9/6.9 MB\u001b[0m \u001b[31m10.1 MB/s\u001b[0m  \u001b[33m0:00:00\u001b[0meta \u001b[36m0:00:01\u001b[0mm\n",
      "\u001b[?25hDownloading smmap-5.0.2-py3-none-any.whl (24 kB)\n",
      "Downloading watchdog-6.0.0-py3-none-manylinux2014_x86_64.whl (79 kB)\n",
      "Installing collected packages: watchdog, smmap, cachetools, pydeck, gitdb, gitpython, altair, streamlit\n",
      "\u001b[2K   \u001b[90m━━━━━━━━━━━━━━━━━━━━━━━━━━━━━━━━━━━━━━━━\u001b[0m \u001b[32m8/8\u001b[0m [streamlit]/8\u001b[0m [streamlit]\n",
      "\u001b[1A\u001b[2KSuccessfully installed altair-5.5.0 cachetools-6.2.1 gitdb-4.0.12 gitpython-3.1.45 pydeck-0.9.1 smmap-5.0.2 streamlit-1.50.0 watchdog-6.0.0\n",
      "\u001b[33mWARNING: Running pip as the 'root' user can result in broken permissions and conflicting behaviour with the system package manager, possibly rendering your system unusable. It is recommended to use a virtual environment instead: https://pip.pypa.io/warnings/venv. Use the --root-user-action option if you know what you are doing and want to suppress this warning.\u001b[0m\u001b[33m\n",
      "\u001b[0m"
     ]
    }
   ],
   "source": [
    "# Need to install additional packages for the notebook\n",
    "! pip install streamlit"
   ]
  },
  {
   "cell_type": "markdown",
   "id": "88c82d60",
   "metadata": {},
   "source": [
    "# Streamlit Protyping"
   ]
  },
  {
   "cell_type": "markdown",
   "id": "647915df",
   "metadata": {},
   "source": [
    "## Imports"
   ]
  },
  {
   "cell_type": "code",
   "execution_count": 4,
   "id": "91865626",
   "metadata": {},
   "outputs": [],
   "source": [
    "import streamlit as st\n",
    "import os\n",
    "import pandas as pd, numpy as np\n",
    "import oandapyV20\n",
    "import oandapyV20.endpoints.pricing as pricing\n",
    "import oandapyV20.endpoints.instruments as instruments"
   ]
  },
  {
   "cell_type": "markdown",
   "id": "cce6a1b0",
   "metadata": {},
   "source": [
    "## Parameters, Classes, and Functions"
   ]
  },
  {
   "cell_type": "code",
   "execution_count": 5,
   "id": "2bb0aa54",
   "metadata": {},
   "outputs": [],
   "source": [
    "OANDA_ACCOUNT_ID = os.getenv(\"OANDA_ACCOUNT_ID\")\n",
    "OANDA_TOKEN = os.getenv(\"OANDA_TOKEN\")\n",
    "\n",
    "def get_latest_price(account_id, access_token, instrument=\"SPX500_USD\"):\n",
    "    client = oandapyV20.API(access_token=access_token)\n",
    "    params = {\"instruments\": instrument}\n",
    "    r = pricing.PricingInfo(accountID=account_id, params=params)\n",
    "    client.request(r)\n",
    "    prices = r.response['prices'][0]\n",
    "    bid = float(prices['bids'][0]['price'])\n",
    "    ask = float(prices['asks'][0]['price'])\n",
    "    return (bid + ask) / 2\n",
    "\n",
    "def get_candles(account_id, access_token, instrument=\"SPX500_USD\", granularity=\"H1\", count=100):\n",
    "    client = oandapyV20.API(access_token=access_token)\n",
    "    params = {\"granularity\": granularity, \"count\": count}\n",
    "    r = instruments.InstrumentsCandles(instrument=instrument, params=params)\n",
    "    client.request(r)\n",
    "    return r.response['candles']"
   ]
  },
  {
   "cell_type": "markdown",
   "id": "57db5774",
   "metadata": {},
   "source": [
    "## App"
   ]
  },
  {
   "cell_type": "code",
   "execution_count": null,
   "id": "ddb72938",
   "metadata": {},
   "outputs": [],
   "source": [
    "st.set_page_config(page_title=\"S&P500 Volatility Dashboard\", layout=\"wide\")\n",
    "st.title(\"S&P500 Volatility Dashboard\")\n",
    "\n",
    "# ---- SIDEBAR ----\n",
    "st.sidebar.header(\"Settings\")\n",
    "instrument = st.sidebar.text_input(\"Instrument\", \"SPX500_USD\")\n",
    "granularity = st.sidebar.selectbox(\"Granularity\", [\"M15\", \"H1\", \"D\"], index=1)\n",
    "refresh = st.sidebar.slider(\"Auto-refresh (seconds)\", 10, 300, 60)\n",
    "\n",
    "# ---- FETCH OANDA DATA ----\n",
    "st.header(f\"OANDA Live Data: {instrument}\")\n",
    "price = get_latest_price(OANDA_ACCOUNT_ID, OANDA_TOKEN, instrument)\n",
    "st.metric(\"Current Price\", f\"{price:.2f} USD\")\n",
    "\n",
    "candles = get_candles(OANDA_ACCOUNT_ID, OANDA_TOKEN, instrument, granularity)\n",
    "df = pd.DataFrame([\n",
    "    {\n",
    "        \"time\": c[\"time\"],\n",
    "        \"open\": float(c[\"mid\"][\"o\"]),\n",
    "        \"high\": float(c[\"mid\"][\"h\"]),\n",
    "        \"low\": float(c[\"mid\"][\"l\"]),\n",
    "        \"close\": float(c[\"mid\"][\"c\"]),\n",
    "    } for c in candles\n",
    "])\n",
    "\n",
    "# ---- CHART ----\n",
    "fig = go.Figure(data=[go.Candlestick(\n",
    "    x=df[\"time\"],\n",
    "    open=df[\"open\"],\n",
    "    high=df[\"high\"],\n",
    "    low=df[\"low\"],\n",
    "    close=df[\"close\"]\n",
    ")])\n",
    "st.plotly_chart(fig, use_container_width=True)\n",
    "\n",
    "# ---- ML INFERENCE ----\n",
    "# st.subheader(\"Predicted Volatility (Model Output)\")\n",
    "# features = df[[\"open\", \"high\", \"low\", \"close\"]].tail(1)\n",
    "# vol_pred = predict_volatility(features)\n",
    "# st.metric(\"Predicted Volatility\", f\"{vol_pred[0]:.4f}\")"
   ]
  }
 ],
 "metadata": {
  "kernelspec": {
   "display_name": "Python 3 (ipykernel)",
   "language": "python",
   "name": "python3"
  },
  "language_info": {
   "codemirror_mode": {
    "name": "ipython",
    "version": 3
   },
   "file_extension": ".py",
   "mimetype": "text/x-python",
   "name": "python",
   "nbconvert_exporter": "python",
   "pygments_lexer": "ipython3",
   "version": "3.9.24"
  }
 },
 "nbformat": 4,
 "nbformat_minor": 5
}
