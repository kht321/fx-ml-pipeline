{
 "cells": [
  {
   "cell_type": "code",
   "execution_count": 30,
   "id": "3a37736c",
   "metadata": {},
   "outputs": [],
   "source": [
    "import pandas as pd\n",
    "import numpy as np\n",
    "from datetime import datetime, timedelta\n",
    "import logging\n",
    "from logging import Logger\n",
    "from typing import Optional"
   ]
  },
  {
   "cell_type": "code",
   "execution_count": 32,
   "id": "b7b031c7",
   "metadata": {},
   "outputs": [],
   "source": [
    "train_csv = '../data_clean/gold/market/features/spx500_features.csv'\n",
    "train_news = '../data_clean/Latest Gold/news/signals/spx500_news_signals.csv'\n",
    "\n",
    "Xraw = pd.read_csv(train_csv)\n",
    "Xnews = pd.read_csv(train_news)"
   ]
  },
  {
   "cell_type": "code",
   "execution_count": null,
   "id": "5c1bb8ad",
   "metadata": {},
   "outputs": [],
   "source": [
    "train_csv = '../data_clean/Latest Gold/market/features/spx500_features_enhanced.csv'\n",
    "\n",
    "X_enhance = pd.read_csv(train_csv)"
   ]
  },
  {
   "cell_type": "code",
   "execution_count": 33,
   "id": "ea9fd7e9",
   "metadata": {},
   "outputs": [
    {
     "data": {
      "text/plain": [
       "'\\n# Old version\\n# creating time lags and close lags\\nX[\\'time\\'] = pd.to_datetime(X[\\'time\\'])\\nX[\\'time_L1\\'] = X[\\'time\\']  - timedelta(minutes=1)\\nX[\\'time_L30\\'] = X[\\'time\\']  - timedelta(minutes=30)\\nX[\\'time_L60\\'] = X[\\'time\\']  - timedelta(minutes=60)\\nX = X.merge(X[[\\'time\\',\\'close\\']].rename(columns={\\'time\\':\\'time_L1\\'}), on=\\'time_L1\\', how=\\'left\\', suffixes=(\"\",\"_L1\"))\\nX = X.merge(X[[\\'time\\',\\'close\\']].rename(columns={\\'time\\':\\'time_L30\\'}), on=\\'time_L30\\', how=\\'left\\', suffixes=(\"\",\"_L30\"))\\nX = X.merge(X[[\\'time\\',\\'close\\']].rename(columns={\\'time\\':\\'time_L60\\'}), on=\\'time_L60\\', how=\\'left\\', suffixes=(\"\",\"_L60\"))\\n\\n# creating returns\\nX[\\'closereturn_L30\\'] = X[\\'close\\']/X[\\'close_L30\\'] - 1\\nX[\\'closereturn_L60\\'] = X[\\'close\\']/X[\\'close_L60\\'] - 1\\n\\nX = X[~X[\\'closereturn_L30\\'].isna()]\\n'"
      ]
     },
     "execution_count": 33,
     "metadata": {},
     "output_type": "execute_result"
    }
   ],
   "source": [
    "X = Xraw\n",
    "X['time'] = pd.to_datetime(X['time']).dt.tz_localize(None)\n",
    "\"\"\"\n",
    "# Old version\n",
    "# creating time lags and close lags\n",
    "X['time'] = pd.to_datetime(X['time'])\n",
    "X['time_L1'] = X['time']  - timedelta(minutes=1)\n",
    "X['time_L30'] = X['time']  - timedelta(minutes=30)\n",
    "X['time_L60'] = X['time']  - timedelta(minutes=60)\n",
    "X = X.merge(X[['time','close']].rename(columns={'time':'time_L1'}), on='time_L1', how='left', suffixes=(\"\",\"_L1\"))\n",
    "X = X.merge(X[['time','close']].rename(columns={'time':'time_L30'}), on='time_L30', how='left', suffixes=(\"\",\"_L30\"))\n",
    "X = X.merge(X[['time','close']].rename(columns={'time':'time_L60'}), on='time_L60', how='left', suffixes=(\"\",\"_L60\"))\n",
    "\n",
    "# creating returns\n",
    "X['closereturn_L30'] = X['close']/X['close_L30'] - 1\n",
    "X['closereturn_L60'] = X['close']/X['close_L60'] - 1\n",
    "\n",
    "X = X[~X['closereturn_L30'].isna()]\n",
    "\"\"\"\n"
   ]
  },
  {
   "cell_type": "code",
   "execution_count": null,
   "id": "b077b58b",
   "metadata": {},
   "outputs": [
    {
     "name": "stderr",
     "output_type": "stream",
     "text": [
      "C:\\Users\\user\\AppData\\Local\\Temp\\ipykernel_76332\\333529773.py:14: InterpolationWarning: The test statistic is outside of the range of p-values available in the\n",
      "look-up table. The actual p-value is greater than the p-value returned.\n",
      "\n",
      "  kpss_stat, p_value_kpss, *_ = kpss(chunks, regression='c', nlags='auto')\n",
      "C:\\Users\\user\\AppData\\Local\\Temp\\ipykernel_76332\\333529773.py:14: InterpolationWarning: The test statistic is outside of the range of p-values available in the\n",
      "look-up table. The actual p-value is greater than the p-value returned.\n",
      "\n",
      "  kpss_stat, p_value_kpss, *_ = kpss(chunks, regression='c', nlags='auto')\n",
      "C:\\Users\\user\\AppData\\Local\\Temp\\ipykernel_76332\\333529773.py:14: InterpolationWarning: The test statistic is outside of the range of p-values available in the\n",
      "look-up table. The actual p-value is greater than the p-value returned.\n",
      "\n",
      "  kpss_stat, p_value_kpss, *_ = kpss(chunks, regression='c', nlags='auto')\n",
      "C:\\Users\\user\\AppData\\Local\\Temp\\ipykernel_76332\\333529773.py:14: InterpolationWarning: The test statistic is outside of the range of p-values available in the\n",
      "look-up table. The actual p-value is greater than the p-value returned.\n",
      "\n",
      "  kpss_stat, p_value_kpss, *_ = kpss(chunks, regression='c', nlags='auto')\n",
      "C:\\Users\\user\\AppData\\Local\\Temp\\ipykernel_76332\\333529773.py:14: InterpolationWarning: The test statistic is outside of the range of p-values available in the\n",
      "look-up table. The actual p-value is greater than the p-value returned.\n",
      "\n",
      "  kpss_stat, p_value_kpss, *_ = kpss(chunks, regression='c', nlags='auto')\n"
     ]
    },
    {
     "data": {
      "image/png": "[encoded data removed]",
      "text/plain": [
       "<Figure size 640x480 with 1 Axes>"
      ]
     },
     "metadata": {},
     "output_type": "display_data"
    }
   ],
   "source": [
    "from statsmodels.tsa.stattools import adfuller\n",
    "from statsmodels.tsa.stattools import kpss\n",
    "\n",
    "n_chunks=5\n",
    "\n",
    "series_to_test = X['closereturn_L30'].dropna()\n",
    "series_to_test.plot()\n",
    "\n",
    "splits = np.array_split(series_to_test.to_numpy(dtype='float32'), n_chunks)\n",
    "\n",
    "ret = {}\n",
    "for chunk_id, chunks in enumerate(splits):\n",
    "    adf_stat, p_value_adf, *_ = adfuller(chunks, autolag='AIC')\n",
    "    kpss_stat, p_value_kpss, *_ = kpss(chunks, regression='c', nlags='auto')\n",
    "    ret[chunk_id] = {'adf_stat': adf_stat, 'p_value_adf': p_value_adf, 'kpss_stat': kpss_stat, 'p_value_kpss':p_value_kpss,}\n",
    "\n"
   ]
  },
  {
   "cell_type": "code",
   "execution_count": 34,
   "id": "480c352d",
   "metadata": {},
   "outputs": [
    {
     "name": "stdout",
     "output_type": "stream",
     "text": [
      "1030643\n",
      "160688\n",
      "168204\n"
     ]
    }
   ],
   "source": [
    "x_col_name = 'return_30'\n",
    "cutoff = pd.Timestamp('2023-10-12')  # pick your cutoff\n",
    "mask = X['time'] < cutoff\n",
    "series_to_test = X.loc[mask, x_col_name]\n",
    "print(len(series_to_test))\n",
    "endog = series_to_test\n",
    "endog.index = X.loc[mask, 'time']\n",
    "\n",
    "cutoff2 = pd.Timestamp('2024-4-11')  # pick your cutoff\n",
    "mask = (cutoff <= X['time']) & (X['time'] < cutoff2)\n",
    "series_to_test = X.loc[mask, x_col_name]\n",
    "print(len(series_to_test))\n",
    "endog_val = series_to_test\n",
    "endog_val.index = X.loc[mask, 'time']\n",
    "\n",
    "cutoff3 = pd.Timestamp('2024-10-10')  # pick your cutoff\n",
    "mask = (cutoff2 <= X['time']) & (X['time'] < cutoff3)\n",
    "series_to_test = X.loc[mask, x_col_name]\n",
    "print(len(series_to_test))\n",
    "endog_test = series_to_test\n",
    "endog_test.index = X.loc[mask, 'time']"
   ]
  },
  {
   "cell_type": "markdown",
   "id": "e3e7b54c",
   "metadata": {},
   "source": [
    "# direct h step ahead forecasting"
   ]
  },
  {
   "cell_type": "code",
   "execution_count": 35,
   "id": "a34f6b8a",
   "metadata": {},
   "outputs": [],
   "source": [
    "import numpy as np\n",
    "import pandas as pd\n",
    "import statsmodels.api as sm\n",
    "\n",
    "# ---------- 1) Data design: h-spaced lags for a direct-h model ----------\n",
    "def build_block_lagged(y, lags, h):\n",
    "    \"\"\"\n",
    "    Build design with h-spaced lags: target is y_{t+h},\n",
    "    regressors are y_{t}, y_{t-h}, y_{t-2h}, ..., y_{t-(lags-1)h}.\n",
    "    y: pd.Series (time-indexed). lags >= 1, h >= 1\n",
    "    \"\"\"\n",
    "    df = pd.DataFrame({'y': y})\n",
    "    for i in range(lags):\n",
    "        df[f'lag_{i}'] = df['y'].shift(i * h)   # i=0 -> y_t, i=1 -> y_{t-h}, ...\n",
    "    df['target'] = df['y'].shift(-h)            # y_{t+h}\n",
    "    df = df.dropna()\n",
    "    X = sm.add_constant(df[[f'lag_{i}' for i in range(lags)]])\n",
    "    y_target = df['target']\n",
    "    return X, y_target\n",
    "\n",
    "def fit_direct_h_ols(y, lags=4, h=3):\n",
    "    X, target = build_block_lagged(y, lags, h)\n",
    "    model = sm.OLS(target, X).fit()\n",
    "    return model, X, target\n",
    "\n",
    "# ---------- 2) One-step (t+h) prediction with SE from statsmodels ----------\n",
    "def one_step_pred_with_se(model, x_row):\n",
    "    \"\"\"\n",
    "    x_row: 1x(p+1) design row with constant already added\n",
    "    Returns mean, mean_se, obs_ci_low, obs_ci_high (95%)\n",
    "    \"\"\"\n",
    "    pr = model.get_prediction(x_row)\n",
    "    sf = pr.summary_frame(alpha=0.05)\n",
    "    return (float(sf['mean']),\n",
    "            float(sf['mean_se']),\n",
    "            float(sf['obs_ci_lower']),\n",
    "            float(sf['obs_ci_upper']))\n",
    "\n",
    "# ---------- 3) Build the latest design row from a vector of h-spaced lags ----------\n",
    "def latest_design_row(y, lags, h):\n",
    "    \"\"\"\n",
    "    Take the most recent h-spaced lags from y to form X_t.\n",
    "    Order: const, y_t, y_{t-h}, y_{t-2h}, ...\n",
    "    \"\"\"\n",
    "    vals = [y.iloc[-i*h] for i in range(lags)]  # i=0 -> y_t\n",
    "    vals = np.array(vals).reshape(1, -1)\n",
    "    X = sm.add_constant(vals, has_constant='add')\n",
    "    return X\n",
    "\n",
    "# ---------- 4A) Delta-method block-recursive t+h then t+2h ----------\n",
    "def block_recursive_delta_multi(model, y, lags=4, h=3, m=5):\n",
    "    \"\"\"\n",
    "    Perform block-recursive forecasting using the same direct-h OLS model\n",
    "    up to horizon t + m*h, with analytic delta-method variance propagation.\n",
    "\n",
    "    This version properly rolls lag values each iteration.\n",
    "    \"\"\"\n",
    "    import numpy as np\n",
    "    import pandas as pd\n",
    "    import statsmodels.api as sm\n",
    "\n",
    "    # Residual variance & coefficients\n",
    "    sigma2 = model.mse_resid\n",
    "    beta = model.params.values.reshape(-1, 1)\n",
    "    Vb = model.cov_params().values\n",
    "\n",
    "    # Initialize lag values (y_t, y_{t-h}, ..., y_{t-(lags-1)h})\n",
    "    lag_vals = [y.iloc[-i*h] for i in range(lags)]\n",
    "    lag_vals = np.array(lag_vals)  # shape (lags,)\n",
    "\n",
    "    records = []\n",
    "\n",
    "    # Step 1: initial prediction with full statsmodels API\n",
    "    X_t = sm.add_constant(lag_vals.reshape(1, -1), has_constant='add')\n",
    "    pr = model.get_prediction(X_t)\n",
    "    sf = pr.summary_frame(alpha=0.05)\n",
    "    mean = float(sf['mean'])\n",
    "    mean_se = float(sf['mean_se'])\n",
    "    obs_var = mean_se**2 + sigma2\n",
    "    ci_low, ci_high = float(sf['obs_ci_lower']), float(sf['obs_ci_upper'])\n",
    "\n",
    "    records.append({\n",
    "        'step': 1,\n",
    "        'horizon': h,\n",
    "        'mean': mean,\n",
    "        'mean_se': mean_se,\n",
    "        'pred_var': obs_var,\n",
    "        'ci_low': ci_low,\n",
    "        'ci_high': ci_high\n",
    "    })\n",
    "\n",
    "    # Keep track of predictive variance of last y_hat (for propagation)\n",
    "    var_prev = obs_var\n",
    "\n",
    "    # Step 2 → m: recursively forecast\n",
    "    for step in range(2, m + 1):\n",
    "        # Roll lag values: insert new forecast mean at front, drop oldest\n",
    "        lag_vals = np.insert(lag_vals[:-1], 0, mean)  # prepend new forecast\n",
    "        X_next = sm.add_constant(lag_vals.reshape(1, -1), has_constant='add')\n",
    "\n",
    "        # Mean prediction\n",
    "        x = X_next.reshape(-1, 1)\n",
    "        mean = float(x.T @ beta)\n",
    "        var_mean = float(x.T @ Vb @ x)\n",
    "        mean_se = np.sqrt(var_mean)\n",
    "\n",
    "        # Delta method: propagate uncertainty from previous predicted y\n",
    "        b_lag0 = float(beta[1, 0])\n",
    "        var_from_input = (b_lag0**2) * var_prev\n",
    "\n",
    "        # Total predictive variance\n",
    "        obs_var = var_mean + sigma2 + var_from_input\n",
    "        ci_low = mean - 1.96 * np.sqrt(obs_var)\n",
    "        ci_high = mean + 1.96 * np.sqrt(obs_var)\n",
    "\n",
    "        records.append({\n",
    "            'step': step,\n",
    "            'horizon': step * h,\n",
    "            'mean': mean,\n",
    "            'mean_se': mean_se,\n",
    "            'pred_var': obs_var,\n",
    "            'ci_low': ci_low,\n",
    "            'ci_high': ci_high\n",
    "        })\n",
    "\n",
    "        var_prev = obs_var  # carry forward total predictive variance\n",
    "\n",
    "    return pd.DataFrame(records).set_index('step')"
   ]
  },
  {
   "cell_type": "code",
   "execution_count": 171,
   "id": "957c42ba",
   "metadata": {},
   "outputs": [],
   "source": [
    "import numpy as np\n",
    "import pandas as pd\n",
    "import statsmodels.api as sm\n",
    "from sklearn.metrics import mean_squared_error\n",
    "import tqdm\n",
    "\n",
    "def _build_h_spaced_lags(series, lags, h):\n",
    "    \"\"\"Return row vector [y_t, y_{t-h}, ..., y_{t-(lags-1)h}] from the end of `series`.\"\"\"\n",
    "    idxs = [-(i*h)-1 for i in range(lags)]\n",
    "    try:\n",
    "        vals = np.array([series.iloc[i] for i in idxs], dtype=float).reshape(1, -1)\n",
    "    except IndexError:\n",
    "        return None  # not enough history\n",
    "    return sm.add_constant(vals, has_constant='add')  # prepend constant\n",
    "\n",
    "def evaluate_walkforward_mse(\n",
    "    model, train_y, val_y, lags=4, h=3, method=\"delta\", n_sims=5000, seed=7\n",
    "):\n",
    "    \"\"\"\n",
    "    Walk-forward evaluation for a direct-h OLS model.\n",
    "    At each validation step k:\n",
    "      1) Use train_y + val_y[:k] as history to build h-spaced lags at time t0+k\n",
    "      2) Predict y_{t0+k+h}\n",
    "      3) Compare to actual val_y[k+h]\n",
    "    Continues one step at a time across the validation set.\n",
    "\n",
    "    Returns:\n",
    "      overall_mse: float\n",
    "      results_df: DataFrame with columns [t_idx, target_idx, pred, true]\n",
    "    \"\"\"\n",
    "    rng = np.random.default_rng(seed)\n",
    "    history = train_y.copy()\n",
    "    preds, trues, t_indices, target_indices = [], [], [], []\n",
    "\n",
    "    # Precompute for MC if needed\n",
    "    beta_hat = model.params.values\n",
    "    Vb = model.cov_params().values\n",
    "    sigma2 = model.mse_resid\n",
    "\n",
    "    # We can produce at most len(val_y)-h predictions\n",
    "    max_k = len(val_y) - h - 1\n",
    "    for k in tqdm.tqdm(list(range(max_k + 1))):\n",
    "        # Build h-spaced lags from history up to current t = k (relative to val start)\n",
    "        X = _build_h_spaced_lags(pd.concat([history, val_y.iloc[[k]]]), lags, h)\n",
    "        #print(k, X)\n",
    "        if X is None:\n",
    "            # Not enough history to form all lags; skip\n",
    "            # (This shouldn't happen if train_y is long enough)\n",
    "            # Append the actual current val to history and continue rolling\n",
    "            history = pd.concat([history, pd.Series([val_y.iloc[k]], index=[val_y.index[k]])])\n",
    "            continue\n",
    "\n",
    "        # Predict y_{t+h}\n",
    "        if method == \"delta\":\n",
    "            sf = model.get_prediction(X).summary_frame(alpha=0.05)\n",
    "            y_pred = float(sf[\"mean\"].iloc[0])\n",
    "        elif method == \"mc\":\n",
    "            # Draw beta and eps, average predictive distribution\n",
    "            betas = rng.multivariate_normal(beta_hat, Vb, size=n_sims)  # [n_sims, p+1]\n",
    "            mu = (X @ betas.T).ravel()\n",
    "            eps = rng.normal(0.0, np.sqrt(sigma2), size=n_sims)\n",
    "            y_pred = float(np.mean(mu + eps))\n",
    "        else:\n",
    "            raise ValueError(\"method must be 'delta' or 'mc'\")\n",
    "\n",
    "        # Ground truth at t+h (within validation window)\n",
    "        true_y = val_y.iloc[k + h]\n",
    "\n",
    "        preds.append(y_pred)\n",
    "        trues.append(true_y)\n",
    "        t_indices.append(val_y.index[k])           # time we forecast FROM\n",
    "        target_indices.append(val_y.index[k + h])  # time we forecast FOR\n",
    "\n",
    "        # Reveal the actual current observation and roll forward by 1\n",
    "        history = pd.concat([history, pd.Series([val_y.iloc[k]], index=[val_y.index[k]])])\n",
    "\n",
    "    overall_mse = mean_squared_error(trues, preds)\n",
    "    results_df = pd.DataFrame({\n",
    "        \"t_idx\": t_indices,\n",
    "        \"target_idx\": target_indices,\n",
    "        \"pred\": preds,\n",
    "        \"true\": trues,\n",
    "        \"sq_err\": (np.array(trues) - np.array(preds))**2\n",
    "    })\n",
    "\n",
    "    return overall_mse, results_df\n"
   ]
  },
  {
   "cell_type": "code",
   "execution_count": 172,
   "id": "edb85039",
   "metadata": {},
   "outputs": [
    {
     "name": "stdout",
     "output_type": "stream",
     "text": [
      "                            OLS Regression Results                            \n",
      "==============================================================================\n",
      "Dep. Variable:                 target   R-squared:                       0.007\n",
      "Model:                            OLS   Adj. R-squared:                  0.007\n",
      "Method:                 Least Squares   F-statistic:                     34.76\n",
      "Date:                Sat, 01 Nov 2025   Prob (F-statistic):           2.27e-68\n",
      "Time:                        22:10:48   Log-Likelihood:             2.6309e+05\n",
      "No. Observations:               49700   AIC:                        -5.262e+05\n",
      "Df Residuals:                   49689   BIC:                        -5.261e+05\n",
      "Df Model:                          10                                         \n",
      "Covariance Type:            nonrobust                                         \n",
      "==============================================================================\n",
      "                 coef    std err          t      P>|t|      [0.025      0.975]\n",
      "------------------------------------------------------------------------------\n",
      "const       3.192e-06   5.45e-06      0.585      0.558    -7.5e-06    1.39e-05\n",
      "lag_0         -0.0008      0.004     -0.168      0.866      -0.010       0.008\n",
      "lag_1          0.0275      0.004      6.143      0.000       0.019       0.036\n",
      "lag_2          0.0436      0.004      9.746      0.000       0.035       0.052\n",
      "lag_3         -0.0178      0.004     -3.965      0.000      -0.027      -0.009\n",
      "lag_4          0.0159      0.004      3.544      0.000       0.007       0.025\n",
      "lag_5         -0.0445      0.004     -9.926      0.000      -0.053      -0.036\n",
      "lag_6         -0.0215      0.004     -4.798      0.000      -0.030      -0.013\n",
      "lag_7         -0.0004      0.004     -0.080      0.936      -0.009       0.008\n",
      "lag_8         -0.0250      0.004     -5.571      0.000      -0.034      -0.016\n",
      "lag_9         -0.0192      0.004     -4.272      0.000      -0.028      -0.010\n",
      "==============================================================================\n",
      "Omnibus:                     9532.576   Durbin-Watson:                   0.070\n",
      "Prob(Omnibus):                  0.000   Jarque-Bera (JB):           133772.221\n",
      "Skew:                          -0.520   Prob(JB):                         0.00\n",
      "Kurtosis:                      10.970   Cond. No.                         869.\n",
      "==============================================================================\n",
      "\n",
      "Notes:\n",
      "[1] Standard Errors assume that the covariance matrix of the errors is correctly specified.\n"
     ]
    }
   ],
   "source": [
    "# Fit direct-h OLS\n",
    "model, X, target = fit_direct_h_ols(endog[-50000:], lags=10, h=30)\n",
    "print(model.summary())\n"
   ]
  },
  {
   "cell_type": "code",
   "execution_count": 173,
   "id": "b55b1430",
   "metadata": {},
   "outputs": [
    {
     "name": "stderr",
     "output_type": "stream",
     "text": [
      "100%|██████████| 1970/1970 [00:24<00:00, 80.10it/s] \n"
     ]
    }
   ],
   "source": [
    "# Walk-forward, one step at a time, predicting t+h each time\n",
    "mse, df = evaluate_walkforward_mse(\n",
    "    model, endog, endog_val[:2000], lags=10, h=30, method=\"delta\"  # or method=\"mc\"\n",
    ")"
   ]
  },
  {
   "cell_type": "code",
   "execution_count": 134,
   "id": "6f7b160b",
   "metadata": {},
   "outputs": [
    {
     "data": {
      "text/html": [
       "<div>\n",
       "<style scoped>\n",
       "    .dataframe tbody tr th:only-of-type {\n",
       "        vertical-align: middle;\n",
       "    }\n",
       "\n",
       "    .dataframe tbody tr th {\n",
       "        vertical-align: top;\n",
       "    }\n",
       "\n",
       "    .dataframe thead th {\n",
       "        text-align: right;\n",
       "    }\n",
       "</style>\n",
       "<table border=\"1\" class=\"dataframe\">\n",
       "  <thead>\n",
       "    <tr style=\"text-align: right;\">\n",
       "      <th></th>\n",
       "      <th>t_idx</th>\n",
       "      <th>target_idx</th>\n",
       "      <th>pred</th>\n",
       "      <th>true</th>\n",
       "      <th>sq_err</th>\n",
       "    </tr>\n",
       "  </thead>\n",
       "  <tbody>\n",
       "    <tr>\n",
       "      <th>0</th>\n",
       "      <td>2023-10-12 00:00:00</td>\n",
       "      <td>2023-10-12 00:15:00</td>\n",
       "      <td>0.000082</td>\n",
       "      <td>0.000159</td>\n",
       "      <td>5.987561e-09</td>\n",
       "    </tr>\n",
       "    <tr>\n",
       "      <th>1</th>\n",
       "      <td>2023-10-12 00:01:00</td>\n",
       "      <td>2023-10-12 00:16:00</td>\n",
       "      <td>-0.000032</td>\n",
       "      <td>0.000182</td>\n",
       "      <td>4.588416e-08</td>\n",
       "    </tr>\n",
       "    <tr>\n",
       "      <th>2</th>\n",
       "      <td>2023-10-12 00:02:00</td>\n",
       "      <td>2023-10-12 00:17:00</td>\n",
       "      <td>-0.000185</td>\n",
       "      <td>0.000273</td>\n",
       "      <td>2.097912e-07</td>\n",
       "    </tr>\n",
       "    <tr>\n",
       "      <th>3</th>\n",
       "      <td>2023-10-12 00:03:00</td>\n",
       "      <td>2023-10-12 00:18:00</td>\n",
       "      <td>-0.000154</td>\n",
       "      <td>0.000182</td>\n",
       "      <td>1.130496e-07</td>\n",
       "    </tr>\n",
       "    <tr>\n",
       "      <th>4</th>\n",
       "      <td>2023-10-12 00:04:00</td>\n",
       "      <td>2023-10-12 00:19:00</td>\n",
       "      <td>-0.000078</td>\n",
       "      <td>0.000000</td>\n",
       "      <td>6.049057e-09</td>\n",
       "    </tr>\n",
       "    <tr>\n",
       "      <th>...</th>\n",
       "      <td>...</td>\n",
       "      <td>...</td>\n",
       "      <td>...</td>\n",
       "      <td>...</td>\n",
       "      <td>...</td>\n",
       "    </tr>\n",
       "    <tr>\n",
       "      <th>180</th>\n",
       "      <td>2023-10-12 03:05:00</td>\n",
       "      <td>2023-10-12 03:22:00</td>\n",
       "      <td>0.000043</td>\n",
       "      <td>0.000182</td>\n",
       "      <td>1.938509e-08</td>\n",
       "    </tr>\n",
       "    <tr>\n",
       "      <th>181</th>\n",
       "      <td>2023-10-12 03:06:00</td>\n",
       "      <td>2023-10-12 03:23:00</td>\n",
       "      <td>0.000111</td>\n",
       "      <td>0.000296</td>\n",
       "      <td>3.409618e-08</td>\n",
       "    </tr>\n",
       "    <tr>\n",
       "      <th>182</th>\n",
       "      <td>2023-10-12 03:07:00</td>\n",
       "      <td>2023-10-12 03:24:00</td>\n",
       "      <td>0.000135</td>\n",
       "      <td>0.000182</td>\n",
       "      <td>2.255739e-09</td>\n",
       "    </tr>\n",
       "    <tr>\n",
       "      <th>183</th>\n",
       "      <td>2023-10-12 03:08:00</td>\n",
       "      <td>2023-10-12 03:25:00</td>\n",
       "      <td>0.000157</td>\n",
       "      <td>0.000296</td>\n",
       "      <td>1.927829e-08</td>\n",
       "    </tr>\n",
       "    <tr>\n",
       "      <th>184</th>\n",
       "      <td>2023-10-12 03:09:00</td>\n",
       "      <td>2023-10-12 03:26:00</td>\n",
       "      <td>0.000211</td>\n",
       "      <td>0.000228</td>\n",
       "      <td>2.882084e-10</td>\n",
       "    </tr>\n",
       "  </tbody>\n",
       "</table>\n",
       "<p>185 rows × 5 columns</p>\n",
       "</div>"
      ],
      "text/plain": [
       "                  t_idx          target_idx      pred      true        sq_err\n",
       "0   2023-10-12 00:00:00 2023-10-12 00:15:00  0.000082  0.000159  5.987561e-09\n",
       "1   2023-10-12 00:01:00 2023-10-12 00:16:00 -0.000032  0.000182  4.588416e-08\n",
       "2   2023-10-12 00:02:00 2023-10-12 00:17:00 -0.000185  0.000273  2.097912e-07\n",
       "3   2023-10-12 00:03:00 2023-10-12 00:18:00 -0.000154  0.000182  1.130496e-07\n",
       "4   2023-10-12 00:04:00 2023-10-12 00:19:00 -0.000078  0.000000  6.049057e-09\n",
       "..                  ...                 ...       ...       ...           ...\n",
       "180 2023-10-12 03:05:00 2023-10-12 03:22:00  0.000043  0.000182  1.938509e-08\n",
       "181 2023-10-12 03:06:00 2023-10-12 03:23:00  0.000111  0.000296  3.409618e-08\n",
       "182 2023-10-12 03:07:00 2023-10-12 03:24:00  0.000135  0.000182  2.255739e-09\n",
       "183 2023-10-12 03:08:00 2023-10-12 03:25:00  0.000157  0.000296  1.927829e-08\n",
       "184 2023-10-12 03:09:00 2023-10-12 03:26:00  0.000211  0.000228  2.882084e-10\n",
       "\n",
       "[185 rows x 5 columns]"
      ]
     },
     "execution_count": 134,
     "metadata": {},
     "output_type": "execute_result"
    }
   ],
   "source": [
    "df"
   ]
  },
  {
   "cell_type": "code",
   "execution_count": 174,
   "id": "d5c8ef78",
   "metadata": {},
   "outputs": [
    {
     "data": {
      "image/png": "[encoded data removed]",
      "text/plain": [
       "<Figure size 800x400 with 1 Axes>"
      ]
     },
     "metadata": {},
     "output_type": "display_data"
    }
   ],
   "source": [
    "import matplotlib.pyplot as plt\n",
    "\n",
    "plt.figure(figsize=(8,4))\n",
    "plt.plot(df[\"true\"].values, label=\"True (validation)\")\n",
    "plt.plot(df[\"pred\"].values, label=\"Forecast (recursive mean)\")\n",
    "plt.legend()\n",
    "plt.show()"
   ]
  },
  {
   "cell_type": "markdown",
   "id": "233a95eb",
   "metadata": {},
   "source": [
    "# indirect forecasting"
   ]
  },
  {
   "cell_type": "code",
   "execution_count": 193,
   "id": "81cb4047",
   "metadata": {},
   "outputs": [],
   "source": [
    "import numpy as np\n",
    "import pandas as pd\n",
    "import statsmodels.api as sm\n",
    "from sklearn.metrics import mean_squared_error\n",
    "\n",
    "\n",
    "# === 1-step recursive forecast (FAST) =======================================\n",
    "def recursive_forecast_t_plus_h_fast(model, history_arr, lags, horizon=30):\n",
    "    \"\"\"\n",
    "    Use a 1-step model to recursively forecast horizon steps ahead.\n",
    "    Vectorized, no pandas operations inside loop.\n",
    "    history_arr : np.ndarray, shape (>=lags,)\n",
    "    Returns:\n",
    "      y_pred_h : float, forecast at t+h\n",
    "      preds : list of all intermediate forecasts\n",
    "    \"\"\"\n",
    "    beta = model.params.values      # includes intercept\n",
    "    const = beta[0]\n",
    "    coef = beta[1:]\n",
    "    preds = []\n",
    "\n",
    "    # rolling buffer of last `lags` observations\n",
    "    buf = np.array(history_arr[-lags:], dtype=float)\n",
    "\n",
    "    for _ in range(horizon):\n",
    "        # y_pred = const + dot(lag_vector, coef)\n",
    "        y_pred = const + np.dot(buf[::-1], coef)\n",
    "        preds.append(y_pred)\n",
    "        # roll buffer: drop oldest, append new forecast\n",
    "        buf[:-1] = buf[1:]\n",
    "        buf[-1] = y_pred\n",
    "\n",
    "    return preds[-1], preds\n",
    "\n",
    "\n",
    "# === Validation evaluation (indirect, fast) =================================\n",
    "def evaluate_indirect_mse_fast(model, train_y, val_y, lags=4, horizon=30):\n",
    "    \"\"\"\n",
    "    Evaluate t+h recursive forecasts from a 1-step model.\n",
    "    Vectorized & optimized version.\n",
    "    \"\"\"\n",
    "    y_train = np.asarray(train_y, dtype=float)\n",
    "    y_val = np.asarray(val_y, dtype=float)\n",
    "\n",
    "    preds, trues, t_idx, target_idx = [], [], [], []\n",
    "    n_val = len(y_val)\n",
    "    max_k = n_val - horizon\n",
    "\n",
    "    # Preallocate for speed\n",
    "    for k in tqdm.tqdm(list(range(max_k))):\n",
    "        # combine training + known validation up to current k\n",
    "        history_arr = np.concatenate([y_train, y_val[:k]])\n",
    "        if len(history_arr) < lags:\n",
    "            continue\n",
    "\n",
    "        y_pred_h, _ = recursive_forecast_t_plus_h_fast(\n",
    "            model, history_arr, lags, horizon=horizon\n",
    "        )\n",
    "\n",
    "        true_y = y_val[k + horizon]\n",
    "        preds.append(y_pred_h)\n",
    "        trues.append(true_y)\n",
    "        t_idx.append(k)\n",
    "        target_idx.append(k + horizon)\n",
    "\n",
    "    mse = mean_squared_error(trues, preds)\n",
    "    df = pd.DataFrame({\n",
    "        \"t_idx\": t_idx,\n",
    "        \"target_idx\": target_idx,\n",
    "        f\"pred_t+{horizon}\": preds,\n",
    "        f\"true_t+{horizon}\": trues\n",
    "    })\n",
    "    return mse, df\n"
   ]
  },
  {
   "cell_type": "code",
   "execution_count": 201,
   "id": "3300277b",
   "metadata": {},
   "outputs": [],
   "source": [
    "import os, pickle, json\n",
    "def train_val_h_step_OLS(endog_train, endog_val, lags, expt_dir, h=30):\n",
    "    # Train 1-step OLS model\n",
    "    model_1step, _, _ = fit_direct_h_ols(endog_train, lags=lags, h=h)\n",
    "    # Evaluate indirect t+30 performance (fast)\n",
    "    mse_30, result_df = evaluate_indirect_mse_fast(\n",
    "        model_1step, endog_train, endog_val, lags=lags, horizon=h\n",
    "    )\n",
    "\n",
    "    # Create timestamped subdirectory\n",
    "    timestamp = datetime.now().strftime(\"%Y%m%d_%H%M%S\")\n",
    "    save_dir = os.path.join(expt_dir, f\"{lags}_{timestamp}\")\n",
    "    os.makedirs(save_dir, exist_ok=True)\n",
    "\n",
    "    # Save model\n",
    "    model_path = os.path.join(save_dir, \"model.pkl\")\n",
    "    with open(model_path, \"wb\") as f:\n",
    "        pickle.dump(model, f)\n",
    "\n",
    "    # Save results dataframe\n",
    "    csv_path = os.path.join(save_dir, \"forecast_results.csv\")\n",
    "    result_df.to_csv(csv_path, index=False)\n",
    "\n",
    "    # Load existing data if present\n",
    "    json_path = os.path.join(save_dir, \"AR_results.json\")\n",
    "    if os.path.exists(json_path):\n",
    "        with open(json_path, \"r\") as f:\n",
    "            try:\n",
    "                metrics_dict = json.load(f)\n",
    "            except json.JSONDecodeError:\n",
    "                metrics_dict = {}\n",
    "    else:\n",
    "        metrics_dict = {}\n",
    "\n",
    "    metrics_dict[lags] = mse_30\n",
    "\n",
    "    with open(json_path, \"w\") as f:\n",
    "        json.dump(metrics_dict, f, indent=4)\n"
   ]
  },
  {
   "cell_type": "code",
   "execution_count": null,
   "id": "90960fe5",
   "metadata": {},
   "outputs": [],
   "source": [
    "train_val_h_step_OLS(endog, endog_val, 1, './AR_tuning', h=30)"
   ]
  },
  {
   "cell_type": "code",
   "execution_count": 200,
   "id": "5a714540",
   "metadata": {},
   "outputs": [
    {
     "data": {
      "image/png": "[encoded data removed]",
      "text/plain": [
       "<Figure size 800x600 with 1 Axes>"
      ]
     },
     "metadata": {},
     "output_type": "display_data"
    }
   ],
   "source": [
    "import matplotlib.pyplot as plt\n",
    "\n",
    "plt.figure(figsize=(8,6))\n",
    "plt.plot(result_df[\"true_t+30\"].values[-5000:], label=\"True (validation)\")\n",
    "plt.plot(result_df[\"pred_t+30\"].values[-5000:], label=\"Forecast (recursive mean)\")\n",
    "plt.legend()\n",
    "plt.show()"
   ]
  },
  {
   "cell_type": "code",
   "execution_count": 84,
   "id": "13aa4eee",
   "metadata": {},
   "outputs": [
    {
     "name": "stderr",
     "output_type": "stream",
     "text": [
      "c:\\Users\\user\\anaconda3\\envs\\kz2\\Lib\\site-packages\\statsmodels\\tsa\\base\\tsa_model.py:473: ValueWarning: A date index has been provided, but it has no associated frequency information and so will be ignored when e.g. forecasting.\n",
      "  self._init_dates(dates, freq)\n",
      "c:\\Users\\user\\anaconda3\\envs\\kz2\\Lib\\site-packages\\statsmodels\\tsa\\base\\tsa_model.py:473: ValueWarning: A date index has been provided, but it has no associated frequency information and so will be ignored when e.g. forecasting.\n",
      "  self._init_dates(dates, freq)\n"
     ]
    },
    {
     "name": "stdout",
     "output_type": "stream",
     "text": [
      "                               SARIMAX Results                                \n",
      "==============================================================================\n",
      "Dep. Variable:              return_30   No. Observations:                  500\n",
      "Model:               SARIMAX(2, 0, 0)   Log Likelihood                3234.348\n",
      "Date:                Sat, 01 Nov 2025   AIC                          -6460.696\n",
      "Time:                        01:59:32   BIC                          -6443.838\n",
      "Sample:                             0   HQIC                         -6454.081\n",
      "                                - 500                                         \n",
      "Covariance Type:                  opg                                         \n",
      "==============================================================================\n",
      "                 coef    std err          z      P>|z|      [0.025      0.975]\n",
      "------------------------------------------------------------------------------\n",
      "intercept   6.378e-06   1.66e-05      0.385      0.700   -2.61e-05    3.88e-05\n",
      "ar.L1          0.9037      0.044     20.330      0.000       0.817       0.991\n",
      "ar.L2          0.0621      0.044      1.403      0.160      -0.025       0.149\n",
      "sigma2      1.393e-07   5.86e-09     23.787      0.000    1.28e-07    1.51e-07\n",
      "===================================================================================\n",
      "Ljung-Box (L1) (Q):                   0.00   Jarque-Bera (JB):               137.91\n",
      "Prob(Q):                              0.95   Prob(JB):                         0.00\n",
      "Heteroskedasticity (H):               0.34   Skew:                            -0.12\n",
      "Prob(H) (two-sided):                  0.00   Kurtosis:                         5.56\n",
      "===================================================================================\n",
      "\n",
      "Warnings:\n",
      "[1] Covariance matrix calculated using the outer product of gradients (complex-step).\n"
     ]
    },
    {
     "name": "stderr",
     "output_type": "stream",
     "text": [
      "c:\\Users\\user\\anaconda3\\envs\\kz2\\Lib\\site-packages\\statsmodels\\tsa\\base\\tsa_model.py:837: ValueWarning: No supported index is available. Prediction results will be given with an integer index beginning at `start`.\n",
      "  return get_prediction_index(\n",
      "c:\\Users\\user\\anaconda3\\envs\\kz2\\Lib\\site-packages\\statsmodels\\tsa\\base\\tsa_model.py:837: FutureWarning: No supported index is available. In the next version, calling this method in a model without a supported index will result in an exception.\n",
      "  return get_prediction_index(\n"
     ]
    },
    {
     "data": {
      "text/plain": [
       "<matplotlib.collections.PolyCollection at 0x28968ebf850>"
      ]
     },
     "execution_count": 84,
     "metadata": {},
     "output_type": "execute_result"
    },
    {
     "data": {
      "image/png": "[encoded data removed]",
      "text/plain": [
       "<Figure size 1500x500 with 1 Axes>"
      ]
     },
     "metadata": {},
     "output_type": "display_data"
    }
   ],
   "source": [
    "import statsmodels.api as sm\n",
    "import pickle\n",
    "h=30\n",
    "mod = sm.tsa.SARIMAX(endog[-500:], order=(2, 0, 0), trend=\"c\")\n",
    "res = mod.fit()\n",
    "\n",
    "print(res.summary())\n",
    "\n",
    "# Save the model to a file\n",
    "with open('./ARIMA_2_0_0.pkl', 'wb') as f:\n",
    "    pickle.dump(res, f)\n",
    "\n",
    "import matplotlib.pyplot as plt\n",
    "fig, ax = plt.subplots(figsize=(15, 5))\n",
    "\n",
    "# Plot the data (here we are subsetting it to get a better look at the forecasts)\n",
    "endog[-500:].plot(ax=ax)\n",
    "\n",
    "# Construct the forecasts\n",
    "fcast = res.get_forecast(steps=h).summary_frame()\n",
    "last_timestamp = endog.index[-1]\n",
    "future_index = pd.date_range(last_timestamp, periods=h, freq='min')\n",
    "fcast.index = future_index\n",
    "\n",
    "fcast[\"mean\"].plot(ax=ax, style=\"k--\")\n",
    "ax.fill_between(\n",
    "    fcast.index, fcast[\"mean_ci_lower\"], fcast[\"mean_ci_upper\"], color=\"k\", alpha=0.1\n",
    ")"
   ]
  },
  {
   "cell_type": "code",
   "execution_count": 145,
   "id": "19360ba4",
   "metadata": {},
   "outputs": [],
   "source": [
    "import tqdm\n",
    "def run_h_step_forecast(res, endog, h=30):\n",
    "    forecasts = []\n",
    "    for i in tqdm.tqdm(list(range(len(endog)))):\n",
    "        res = res.append([endog.iloc[i:i+1].item()], refit=False)\n",
    "        forecasts.append(res.forecast(steps=h).iloc[-1])\n",
    "        #forecasts.append(res.get_forecast(steps=h).summary_frame().iloc[-1,:])\n",
    "    return pd.DataFrame(forecasts)"
   ]
  },
  {
   "cell_type": "code",
   "execution_count": 85,
   "id": "c6143fb5",
   "metadata": {},
   "outputs": [
    {
     "data": {
      "text/plain": [
       "Timestamp('2023-10-11 23:58:00')"
      ]
     },
     "execution_count": 85,
     "metadata": {},
     "output_type": "execute_result"
    }
   ],
   "source": [
    "# Load the model from the file\n",
    "with open('./ARIMA_2_0_0.pkl', 'rb') as f:\n",
    "    loaded_model = pickle.load(f)\n",
    "loaded_model.model.data.orig_endog.index[-1]"
   ]
  },
  {
   "cell_type": "code",
   "execution_count": 139,
   "id": "ca4e401c",
   "metadata": {},
   "outputs": [
    {
     "name": "stderr",
     "output_type": "stream",
     "text": [
      "c:\\Users\\user\\anaconda3\\envs\\kz2\\Lib\\site-packages\\statsmodels\\tsa\\base\\tsa_model.py:837: ValueWarning: No supported index is available. Prediction results will be given with an integer index beginning at `start`.\n",
      "  return get_prediction_index(\n",
      "c:\\Users\\user\\anaconda3\\envs\\kz2\\Lib\\site-packages\\statsmodels\\tsa\\base\\tsa_model.py:837: FutureWarning: No supported index is available. In the next version, calling this method in a model without a supported index will result in an exception.\n",
      "  return get_prediction_index(\n"
     ]
    },
    {
     "data": {
      "text/plain": [
       "0.000156619954445683"
      ]
     },
     "execution_count": 139,
     "metadata": {},
     "output_type": "execute_result"
    }
   ],
   "source": [
    "loaded_model.forecast(steps=30).iloc[-1]"
   ]
  },
  {
   "cell_type": "code",
   "execution_count": 146,
   "id": "ed603d22",
   "metadata": {},
   "outputs": [
    {
     "name": "stderr",
     "output_type": "stream",
     "text": [
      "  0%|          | 0/160688 [00:00<?, ?it/s]c:\\Users\\user\\anaconda3\\envs\\kz2\\Lib\\site-packages\\statsmodels\\tsa\\base\\tsa_model.py:837: ValueWarning: No supported index is available. Prediction results will be given with an integer index beginning at `start`.\n",
      "  return get_prediction_index(\n",
      "c:\\Users\\user\\anaconda3\\envs\\kz2\\Lib\\site-packages\\statsmodels\\tsa\\base\\tsa_model.py:837: FutureWarning: No supported index is available. In the next version, calling this method in a model without a supported index will result in an exception.\n",
      "  return get_prediction_index(\n",
      "c:\\Users\\user\\anaconda3\\envs\\kz2\\Lib\\site-packages\\statsmodels\\tsa\\base\\tsa_model.py:837: ValueWarning: No supported index is available. Prediction results will be given with an integer index beginning at `start`.\n",
      "  return get_prediction_index(\n",
      " 84%|████████▎ | 134472/160688 [7:56:55<1:32:58,  4.70it/s]\n"
     ]
    },
    {
     "ename": "KeyboardInterrupt",
     "evalue": "",
     "output_type": "error",
     "traceback": [
      "\u001b[1;31m---------------------------------------------------------------------------\u001b[0m",
      "\u001b[1;31mKeyboardInterrupt\u001b[0m                         Traceback (most recent call last)",
      "Cell \u001b[1;32mIn[146], line 1\u001b[0m\n\u001b[1;32m----> 1\u001b[0m results_val \u001b[38;5;241m=\u001b[39m \u001b[43mrun_h_step_forecast\u001b[49m\u001b[43m(\u001b[49m\u001b[43mloaded_model\u001b[49m\u001b[43m,\u001b[49m\u001b[43m \u001b[49m\u001b[43mendog_val\u001b[49m\u001b[43m,\u001b[49m\u001b[43mh\u001b[49m\u001b[38;5;241;43m=\u001b[39;49m\u001b[38;5;241;43m30\u001b[39;49m\u001b[43m)\u001b[49m\n",
      "Cell \u001b[1;32mIn[145], line 5\u001b[0m, in \u001b[0;36mrun_h_step_forecast\u001b[1;34m(res, endog, h)\u001b[0m\n\u001b[0;32m      3\u001b[0m forecasts \u001b[38;5;241m=\u001b[39m []\n\u001b[0;32m      4\u001b[0m \u001b[38;5;28;01mfor\u001b[39;00m i \u001b[38;5;129;01min\u001b[39;00m tqdm\u001b[38;5;241m.\u001b[39mtqdm(\u001b[38;5;28mlist\u001b[39m(\u001b[38;5;28mrange\u001b[39m(\u001b[38;5;28mlen\u001b[39m(endog)))):\n\u001b[1;32m----> 5\u001b[0m     res \u001b[38;5;241m=\u001b[39m \u001b[43mres\u001b[49m\u001b[38;5;241;43m.\u001b[39;49m\u001b[43mappend\u001b[49m\u001b[43m(\u001b[49m\u001b[43m[\u001b[49m\u001b[43mendog\u001b[49m\u001b[38;5;241;43m.\u001b[39;49m\u001b[43miloc\u001b[49m\u001b[43m[\u001b[49m\u001b[43mi\u001b[49m\u001b[43m:\u001b[49m\u001b[43mi\u001b[49m\u001b[38;5;241;43m+\u001b[39;49m\u001b[38;5;241;43m1\u001b[39;49m\u001b[43m]\u001b[49m\u001b[38;5;241;43m.\u001b[39;49m\u001b[43mitem\u001b[49m\u001b[43m(\u001b[49m\u001b[43m)\u001b[49m\u001b[43m]\u001b[49m\u001b[43m,\u001b[49m\u001b[43m \u001b[49m\u001b[43mrefit\u001b[49m\u001b[38;5;241;43m=\u001b[39;49m\u001b[38;5;28;43;01mFalse\u001b[39;49;00m\u001b[43m)\u001b[49m\n\u001b[0;32m      6\u001b[0m     forecasts\u001b[38;5;241m.\u001b[39mappend(res\u001b[38;5;241m.\u001b[39mforecast(steps\u001b[38;5;241m=\u001b[39mh)\u001b[38;5;241m.\u001b[39miloc[\u001b[38;5;241m-\u001b[39m\u001b[38;5;241m1\u001b[39m])\n\u001b[0;32m      7\u001b[0m     \u001b[38;5;66;03m#forecasts.append(res.get_forecast(steps=h).summary_frame().iloc[-1,:])\u001b[39;00m\n",
      "File \u001b[1;32mc:\\Users\\user\\anaconda3\\envs\\kz2\\Lib\\site-packages\\statsmodels\\tsa\\statespace\\mlemodel.py:4356\u001b[0m, in \u001b[0;36mMLEResults.append\u001b[1;34m(self, endog, exog, refit, fit_kwargs, copy_initialization, **kwargs)\u001b[0m\n\u001b[0;32m   4353\u001b[0m     kwargs\u001b[38;5;241m.\u001b[39msetdefault(\u001b[38;5;124m'\u001b[39m\u001b[38;5;124minitialization\u001b[39m\u001b[38;5;124m'\u001b[39m, init)\n\u001b[0;32m   4355\u001b[0m mod \u001b[38;5;241m=\u001b[39m \u001b[38;5;28mself\u001b[39m\u001b[38;5;241m.\u001b[39mmodel\u001b[38;5;241m.\u001b[39mclone(new_endog, exog\u001b[38;5;241m=\u001b[39mnew_exog, \u001b[38;5;241m*\u001b[39m\u001b[38;5;241m*\u001b[39mkwargs)\n\u001b[1;32m-> 4356\u001b[0m res \u001b[38;5;241m=\u001b[39m \u001b[38;5;28;43mself\u001b[39;49m\u001b[38;5;241;43m.\u001b[39;49m\u001b[43m_apply\u001b[49m\u001b[43m(\u001b[49m\u001b[43mmod\u001b[49m\u001b[43m,\u001b[49m\u001b[43m \u001b[49m\u001b[43mrefit\u001b[49m\u001b[38;5;241;43m=\u001b[39;49m\u001b[43mrefit\u001b[49m\u001b[43m,\u001b[49m\u001b[43m \u001b[49m\u001b[43mfit_kwargs\u001b[49m\u001b[38;5;241;43m=\u001b[39;49m\u001b[43mfit_kwargs\u001b[49m\u001b[43m)\u001b[49m\n\u001b[0;32m   4358\u001b[0m \u001b[38;5;28;01mreturn\u001b[39;00m res\n",
      "File \u001b[1;32mc:\\Users\\user\\anaconda3\\envs\\kz2\\Lib\\site-packages\\statsmodels\\tsa\\statespace\\mlemodel.py:3803\u001b[0m, in \u001b[0;36mMLEResults._apply\u001b[1;34m(self, mod, refit, fit_kwargs)\u001b[0m\n\u001b[0;32m   3801\u001b[0m             res \u001b[38;5;241m=\u001b[39m func(\u001b[38;5;28mself\u001b[39m\u001b[38;5;241m.\u001b[39mparams, \u001b[38;5;241m*\u001b[39m\u001b[38;5;241m*\u001b[39mfit_kwargs)\n\u001b[0;32m   3802\u001b[0m     \u001b[38;5;28;01melse\u001b[39;00m:\n\u001b[1;32m-> 3803\u001b[0m         res \u001b[38;5;241m=\u001b[39m \u001b[43mfunc\u001b[49m\u001b[43m(\u001b[49m\u001b[38;5;28;43mself\u001b[39;49m\u001b[38;5;241;43m.\u001b[39;49m\u001b[43mparams\u001b[49m\u001b[43m,\u001b[49m\u001b[43m \u001b[49m\u001b[38;5;241;43m*\u001b[39;49m\u001b[38;5;241;43m*\u001b[39;49m\u001b[43mfit_kwargs\u001b[49m\u001b[43m)\u001b[49m\n\u001b[0;32m   3805\u001b[0m \u001b[38;5;28;01mreturn\u001b[39;00m res\n",
      "File \u001b[1;32mc:\\Users\\user\\anaconda3\\envs\\kz2\\Lib\\site-packages\\statsmodels\\tsa\\statespace\\mlemodel.py:887\u001b[0m, in \u001b[0;36mMLEModel.smooth\u001b[1;34m(self, params, transformed, includes_fixed, complex_step, cov_type, cov_kwds, return_ssm, results_class, results_wrapper_class, **kwargs)\u001b[0m\n\u001b[0;32m    884\u001b[0m     kwargs[\u001b[38;5;124m'\u001b[39m\u001b[38;5;124minversion_method\u001b[39m\u001b[38;5;124m'\u001b[39m] \u001b[38;5;241m=\u001b[39m INVERT_UNIVARIATE \u001b[38;5;241m|\u001b[39m SOLVE_LU\n\u001b[0;32m    886\u001b[0m \u001b[38;5;66;03m# Get the state space output\u001b[39;00m\n\u001b[1;32m--> 887\u001b[0m result \u001b[38;5;241m=\u001b[39m \u001b[38;5;28;43mself\u001b[39;49m\u001b[38;5;241;43m.\u001b[39;49m\u001b[43mssm\u001b[49m\u001b[38;5;241;43m.\u001b[39;49m\u001b[43msmooth\u001b[49m\u001b[43m(\u001b[49m\u001b[43mcomplex_step\u001b[49m\u001b[38;5;241;43m=\u001b[39;49m\u001b[43mcomplex_step\u001b[49m\u001b[43m,\u001b[49m\u001b[43m \u001b[49m\u001b[38;5;241;43m*\u001b[39;49m\u001b[38;5;241;43m*\u001b[39;49m\u001b[43mkwargs\u001b[49m\u001b[43m)\u001b[49m\n\u001b[0;32m    889\u001b[0m \u001b[38;5;66;03m# Wrap in a results object\u001b[39;00m\n\u001b[0;32m    890\u001b[0m \u001b[38;5;28;01mreturn\u001b[39;00m \u001b[38;5;28mself\u001b[39m\u001b[38;5;241m.\u001b[39m_wrap_results(params, result, return_ssm, cov_type,\n\u001b[0;32m    891\u001b[0m                           cov_kwds, results_class,\n\u001b[0;32m    892\u001b[0m                           results_wrapper_class)\n",
      "File \u001b[1;32mc:\\Users\\user\\anaconda3\\envs\\kz2\\Lib\\site-packages\\statsmodels\\tsa\\statespace\\kalman_smoother.py:419\u001b[0m, in \u001b[0;36mKalmanSmoother.smooth\u001b[1;34m(self, smoother_output, smooth_method, results, run_filter, prefix, complex_step, update_representation, update_filter, update_smoother, **kwargs)\u001b[0m\n\u001b[0;32m    417\u001b[0m \u001b[38;5;28;01mif\u001b[39;00m smoother_output \u001b[38;5;129;01mis\u001b[39;00m \u001b[38;5;28;01mNone\u001b[39;00m:\n\u001b[0;32m    418\u001b[0m     smoother_output \u001b[38;5;241m=\u001b[39m \u001b[38;5;28mself\u001b[39m\u001b[38;5;241m.\u001b[39msmoother_output\n\u001b[1;32m--> 419\u001b[0m smoother \u001b[38;5;241m=\u001b[39m \u001b[38;5;28;43mself\u001b[39;49m\u001b[38;5;241;43m.\u001b[39;49m\u001b[43m_smooth\u001b[49m\u001b[43m(\u001b[49m\u001b[43msmoother_output\u001b[49m\u001b[43m,\u001b[49m\u001b[43m \u001b[49m\u001b[43mresults\u001b[49m\u001b[38;5;241;43m=\u001b[39;49m\u001b[43mresults\u001b[49m\u001b[43m,\u001b[49m\u001b[43m \u001b[49m\u001b[38;5;241;43m*\u001b[39;49m\u001b[38;5;241;43m*\u001b[39;49m\u001b[43mkwargs\u001b[49m\u001b[43m)\u001b[49m\n\u001b[0;32m    421\u001b[0m \u001b[38;5;66;03m# Update the results\u001b[39;00m\n\u001b[0;32m    422\u001b[0m \u001b[38;5;28;01mif\u001b[39;00m update_smoother:\n",
      "\u001b[1;31mKeyboardInterrupt\u001b[0m: "
     ]
    }
   ],
   "source": [
    "results_val = run_h_step_forecast(loaded_model, endog_val,h=30)"
   ]
  },
  {
   "cell_type": "code",
   "execution_count": null,
   "id": "55e26637",
   "metadata": {},
   "outputs": [
    {
     "name": "stdout",
     "output_type": "stream",
     "text": [
      "Performing stepwise search to minimize aic\n",
      " ARIMA(0,0,0)(0,0,0)[0] intercept   : AIC=-9780661.978, Time=51.56 sec\n",
      " ARIMA(1,0,0)(0,0,0)[0] intercept   : AIC=-12429907.760, Time=71.93 sec\n",
      " ARIMA(0,0,1)(0,0,0)[0] intercept   : AIC=-10430615.466, Time=111.47 sec\n",
      " ARIMA(0,0,0)(0,0,0)[0]             : AIC=-9780640.871, Time=17.23 sec\n"
     ]
    }
   ],
   "source": [
    "from pmdarima import auto_arima\n",
    "model = auto_arima(\n",
    "    endog,\n",
    "    start_p=0,\n",
    "    start_q=0,\n",
    "    max_p=3,\n",
    "    max_q=3,\n",
    "    d=0,            # let the function difference as needed (ADF-based)\n",
    "    seasonal=False,    # True + m>1 for seasonal data\n",
    "    trace=True,\n",
    "    stepwise=True,\n",
    "    suppress_warnings=True,\n",
    "    error_action=\"raise\",\n",
    "    with_intercept=True\n",
    ")"
   ]
  },
  {
   "cell_type": "markdown",
   "id": "14c2a25e",
   "metadata": {},
   "source": [
    "# Merging market and news"
   ]
  },
  {
   "cell_type": "code",
   "execution_count": 152,
   "id": "72d5f45b",
   "metadata": {},
   "outputs": [],
   "source": [
    "# Setup logging\n",
    "logging.basicConfig(\n",
    "    level=logging.INFO,\n",
    "    format='%(asctime)s - %(levelname)s - %(message)s'\n",
    ")\n",
    "logger = logging.getLogger(__name__)"
   ]
  },
  {
   "cell_type": "code",
   "execution_count": 170,
   "id": "fdc857d4",
   "metadata": {},
   "outputs": [],
   "source": [
    "def merge_market_news(\n",
    "    market_df: pd.DataFrame,\n",
    "    news_df: Optional[pd.DataFrame],\n",
    "    tolerance_hours: int = 6\n",
    ") -> pd.DataFrame:\n",
    "    \"\"\"Left-join market data with news signals, forward-filling missing news values.\"\"\"\n",
    "    market_sorted = market_df.sort_values('time').reset_index(drop=True).copy()\n",
    "    market_sorted['time'] = pd.to_datetime(market_sorted['time'])\n",
    "\n",
    "    if news_df is None or news_df.empty:\n",
    "        logger.info(\"No news data - using market features only\")\n",
    "        market_sorted['news_rows_since_update'] = pd.NA\n",
    "        market_sorted['news_available'] = 0\n",
    "        market_sorted['news_age_minutes'] = np.nan\n",
    "        return market_sorted\n",
    "\n",
    "    logger.info(f\"Merging market features with news signals. Market Feature Initial Shape: {market_sorted.shape}\")\n",
    "\n",
    "    news_sorted = news_df.sort_values('signal_time').reset_index(drop=True).copy()\n",
    "    news_sorted['signal_time'] = pd.to_datetime(news_sorted['signal_time'])\n",
    "\n",
    "    news_value_cols = [col for col in news_sorted.columns if col != 'signal_time']\n",
    "    rename_map = {'signal_time': 'news_signal_time', **{col: f'news_{col}' for col in news_value_cols}}\n",
    "    news_prefixed = news_sorted.rename(columns=rename_map)\n",
    "\n",
    "    merge_kwargs = {\n",
    "        \"left_on\": \"time\",\n",
    "        \"right_on\": \"news_signal_time\",\n",
    "        \"direction\": \"backward\",\n",
    "    }\n",
    "    if tolerance_hours is not None:\n",
    "        merge_kwargs[\"tolerance\"] = pd.Timedelta(hours=tolerance_hours)\n",
    "\n",
    "    combined_df = pd.merge_asof(market_sorted, news_prefixed, **merge_kwargs)\n",
    "\n",
    "    news_time = combined_df['news_signal_time']\n",
    "    is_new_news = news_time.notna() & news_time.ne(news_time.shift())\n",
    "    event_id = is_new_news.cumsum()\n",
    "    rows_since = combined_df.groupby(event_id).cumcount().astype('Int64')\n",
    "    rows_since = rows_since.where(event_id > 0, pd.NA)\n",
    "\n",
    "    news_cols_to_ffill = [col for col in combined_df.columns if col.startswith('news_')]\n",
    "    if news_cols_to_ffill:\n",
    "        combined_df[news_cols_to_ffill] = combined_df[news_cols_to_ffill].ffill()\n",
    "\n",
    "    combined_df['news_rows_since_update'] = rows_since\n",
    "    combined_df['news_available'] = combined_df['news_signal_time'].notna().astype(int)\n",
    "\n",
    "    if 'news_signal_time' in combined_df.columns:\n",
    "        combined_df['news_signal_time'] = pd.to_datetime(combined_df['news_signal_time'])\n",
    "        combined_df['news_age_minutes'] = (\n",
    "            combined_df['time'] - combined_df['news_signal_time']\n",
    "        ).dt.total_seconds() / 60\n",
    "\n",
    "    logger.info(f\"Merged dataset shape: {combined_df.shape}\")\n",
    "    news_coverage = combined_df['news_available'].mean()\n",
    "    fresh_news = (combined_df['news_rows_since_update']==0).mean()\n",
    "    logger.info(f\"News coverage: {news_coverage:.1%}. Fresh news fraction: {fresh_news:.1%}\")\n",
    "    labels = combined_df[['time', 'instrument' ,'return_30']].copy()\n",
    "    labels['return_30'] = labels['return_30'].shift(30)\n",
    "\n",
    "\n",
    "    return combined_df, labels\n",
    "\n"
   ]
  },
  {
   "cell_type": "code",
   "execution_count": 171,
   "id": "d930ea29",
   "metadata": {},
   "outputs": [
    {
     "name": "stderr",
     "output_type": "stream",
     "text": [
      "2025-11-01 12:40:18,580 - INFO - Merging market features with news signals. Market Feature Initial Shape: (1705216, 68)\n",
      "2025-11-01 12:40:19,866 - INFO - Merged dataset shape: (1705216, 82)\n",
      "2025-11-01 12:40:19,924 - INFO - News coverage: 99.7%. Fresh news fraction: 0.7%\n"
     ]
    }
   ],
   "source": [
    "combined_df, labels = merge_market_news(Xraw, Xnews)"
   ]
  },
  {
   "cell_type": "code",
   "execution_count": 172,
   "id": "c3303979",
   "metadata": {},
   "outputs": [],
   "source": [
    "combined_df.to_csv('./combined_data.csv')"
   ]
  },
  {
   "cell_type": "code",
   "execution_count": 176,
   "id": "e5da4ed0",
   "metadata": {},
   "outputs": [
    {
     "name": "stderr",
     "output_type": "stream",
     "text": [
      "C:\\Users\\user\\AppData\\Local\\Temp\\ipykernel_29284\\522246502.py:1: FutureWarning: 'T' is deprecated and will be removed in a future version, please use 'min' instead.\n",
      "  pd.date_range(start='1/1/2021', end='3/31/2021', freq='1T')\n"
     ]
    },
    {
     "data": {
      "text/plain": [
       "DatetimeIndex(['2021-01-01 00:00:00', '2021-01-01 00:01:00',\n",
       "               '2021-01-01 00:02:00', '2021-01-01 00:03:00',\n",
       "               '2021-01-01 00:04:00', '2021-01-01 00:05:00',\n",
       "               '2021-01-01 00:06:00', '2021-01-01 00:07:00',\n",
       "               '2021-01-01 00:08:00', '2021-01-01 00:09:00',\n",
       "               ...\n",
       "               '2021-03-30 23:51:00', '2021-03-30 23:52:00',\n",
       "               '2021-03-30 23:53:00', '2021-03-30 23:54:00',\n",
       "               '2021-03-30 23:55:00', '2021-03-30 23:56:00',\n",
       "               '2021-03-30 23:57:00', '2021-03-30 23:58:00',\n",
       "               '2021-03-30 23:59:00', '2021-03-31 00:00:00'],\n",
       "              dtype='datetime64[ns]', length=128161, freq='min')"
      ]
     },
     "execution_count": 176,
     "metadata": {},
     "output_type": "execute_result"
    }
   ],
   "source": [
    "pd.date_range(start='1/1/2021', end='3/31/2021', freq='1T')"
   ]
  },
  {
   "cell_type": "code",
   "execution_count": 1,
   "id": "e11080b3",
   "metadata": {},
   "outputs": [],
   "source": [
    "import sys\n",
    "from pathlib import Path\n",
    "\n",
    "project_root = Path.cwd().resolve()\n",
    "if project_root.name == \"notebooks\":          # notebook opened from ./notebooks\n",
    "    project_root = project_root.parent\n",
    "\n",
    "if str(project_root) not in sys.path:\n",
    "    sys.path.insert(0, str(project_root))\n",
    "\n",
    "from src_clean.data_pipelines.silver.market_volatility_processor import VolatilityProcessor"
   ]
  },
  {
   "cell_type": "code",
   "execution_count": 2,
   "id": "9edb1b93",
   "metadata": {},
   "outputs": [],
   "source": [
    "vp = VolatilityProcessor(input_path='../data_clean/bronze/market/spx500_usd_m1_5years.ndjson', output_path='./test', window=20)"
   ]
  },
  {
   "cell_type": "code",
   "execution_count": 3,
   "id": "c38dc107",
   "metadata": {},
   "outputs": [
    {
     "name": "stderr",
     "output_type": "stream",
     "text": [
      "2025-11-01 13:37:51,622 - INFO - Loading candles from ../data_clean/bronze/market/spx500_usd_m1_5years.ndjson\n",
      "C:\\Users\\user\\Desktop\\kz code\\fx-ml-pipeline\\src_clean\\data_pipelines\\silver\\market_volatility_processor.py:68: FutureWarning: 'T' is deprecated and will be removed in a future version, please use 'min' instead.\n",
      "  full_index = pd.date_range(\n",
      "2025-11-01 13:38:01,595 - INFO - Reindex completed. Adding gap metadata.\n",
      "2025-11-01 13:38:03,155 - INFO - Loaded 2625455 candles after filling gaps (original: 1705276). Percentage of backfill: 35.0%. Percentage of orig 30-60min: 68.8%. Percentage of 30-360min: 73.4%\n"
     ]
    }
   ],
   "source": [
    "df = vp.load_candles()"
   ]
  },
  {
   "cell_type": "code",
   "execution_count": 5,
   "id": "5e39d2c5",
   "metadata": {},
   "outputs": [],
   "source": [
    "df.iloc[:200000,:].to_csv('./test.csv')"
   ]
  },
  {
   "cell_type": "code",
   "execution_count": 4,
   "id": "55220236",
   "metadata": {},
   "outputs": [
    {
     "data": {
      "text/html": [
       "<div>\n",
       "<style scoped>\n",
       "    .dataframe tbody tr th:only-of-type {\n",
       "        vertical-align: middle;\n",
       "    }\n",
       "\n",
       "    .dataframe tbody tr th {\n",
       "        vertical-align: top;\n",
       "    }\n",
       "\n",
       "    .dataframe thead th {\n",
       "        text-align: right;\n",
       "    }\n",
       "</style>\n",
       "<table border=\"1\" class=\"dataframe\">\n",
       "  <thead>\n",
       "    <tr style=\"text-align: right;\">\n",
       "      <th></th>\n",
       "      <th>time</th>\n",
       "      <th>instrument</th>\n",
       "      <th>granularity</th>\n",
       "      <th>open</th>\n",
       "      <th>high</th>\n",
       "      <th>low</th>\n",
       "      <th>close</th>\n",
       "      <th>volume</th>\n",
       "      <th>collected_at</th>\n",
       "      <th>minutes_since_last_data</th>\n",
       "      <th>is_backfilled</th>\n",
       "      <th>has_original_prev_30_to_60min</th>\n",
       "      <th>has_original_prev_30_to_360min</th>\n",
       "    </tr>\n",
       "  </thead>\n",
       "  <tbody>\n",
       "    <tr>\n",
       "      <th>2625450</th>\n",
       "      <td>2025-10-10 20:55:00+00:00</td>\n",
       "      <td>SPX500_USD</td>\n",
       "      <td>M1</td>\n",
       "      <td>6515.0</td>\n",
       "      <td>6517.0</td>\n",
       "      <td>6503.6</td>\n",
       "      <td>6513.6</td>\n",
       "      <td>555.0</td>\n",
       "      <td>2025-10-12T15:30:07.014647Z</td>\n",
       "      <td>0</td>\n",
       "      <td>0</td>\n",
       "      <td>1</td>\n",
       "      <td>1</td>\n",
       "    </tr>\n",
       "    <tr>\n",
       "      <th>2625451</th>\n",
       "      <td>2025-10-10 20:56:00+00:00</td>\n",
       "      <td>SPX500_USD</td>\n",
       "      <td>M1</td>\n",
       "      <td>6513.6</td>\n",
       "      <td>6518.6</td>\n",
       "      <td>6512.2</td>\n",
       "      <td>6516.0</td>\n",
       "      <td>416.0</td>\n",
       "      <td>2025-10-12T15:30:07.014653Z</td>\n",
       "      <td>0</td>\n",
       "      <td>0</td>\n",
       "      <td>1</td>\n",
       "      <td>1</td>\n",
       "    </tr>\n",
       "    <tr>\n",
       "      <th>2625452</th>\n",
       "      <td>2025-10-10 20:57:00+00:00</td>\n",
       "      <td>SPX500_USD</td>\n",
       "      <td>M1</td>\n",
       "      <td>6516.0</td>\n",
       "      <td>6525.2</td>\n",
       "      <td>6511.6</td>\n",
       "      <td>6514.4</td>\n",
       "      <td>501.0</td>\n",
       "      <td>2025-10-12T15:30:07.014659Z</td>\n",
       "      <td>0</td>\n",
       "      <td>0</td>\n",
       "      <td>1</td>\n",
       "      <td>1</td>\n",
       "    </tr>\n",
       "    <tr>\n",
       "      <th>2625453</th>\n",
       "      <td>2025-10-10 20:58:00+00:00</td>\n",
       "      <td>SPX500_USD</td>\n",
       "      <td>M1</td>\n",
       "      <td>6513.8</td>\n",
       "      <td>6515.6</td>\n",
       "      <td>6511.2</td>\n",
       "      <td>6512.6</td>\n",
       "      <td>348.0</td>\n",
       "      <td>2025-10-12T15:30:07.014665Z</td>\n",
       "      <td>0</td>\n",
       "      <td>0</td>\n",
       "      <td>1</td>\n",
       "      <td>1</td>\n",
       "    </tr>\n",
       "    <tr>\n",
       "      <th>2625454</th>\n",
       "      <td>2025-10-10 20:59:00+00:00</td>\n",
       "      <td>SPX500_USD</td>\n",
       "      <td>M1</td>\n",
       "      <td>6512.4</td>\n",
       "      <td>6513.8</td>\n",
       "      <td>6512.2</td>\n",
       "      <td>6512.6</td>\n",
       "      <td>36.0</td>\n",
       "      <td>2025-10-12T15:30:07.014670Z</td>\n",
       "      <td>0</td>\n",
       "      <td>0</td>\n",
       "      <td>1</td>\n",
       "      <td>1</td>\n",
       "    </tr>\n",
       "  </tbody>\n",
       "</table>\n",
       "</div>"
      ],
      "text/plain": [
       "                             time  instrument granularity    open    high  \\\n",
       "2625450 2025-10-10 20:55:00+00:00  SPX500_USD          M1  6515.0  6517.0   \n",
       "2625451 2025-10-10 20:56:00+00:00  SPX500_USD          M1  6513.6  6518.6   \n",
       "2625452 2025-10-10 20:57:00+00:00  SPX500_USD          M1  6516.0  6525.2   \n",
       "2625453 2025-10-10 20:58:00+00:00  SPX500_USD          M1  6513.8  6515.6   \n",
       "2625454 2025-10-10 20:59:00+00:00  SPX500_USD          M1  6512.4  6513.8   \n",
       "\n",
       "            low   close  volume                 collected_at  \\\n",
       "2625450  6503.6  6513.6   555.0  2025-10-12T15:30:07.014647Z   \n",
       "2625451  6512.2  6516.0   416.0  2025-10-12T15:30:07.014653Z   \n",
       "2625452  6511.6  6514.4   501.0  2025-10-12T15:30:07.014659Z   \n",
       "2625453  6511.2  6512.6   348.0  2025-10-12T15:30:07.014665Z   \n",
       "2625454  6512.2  6512.6    36.0  2025-10-12T15:30:07.014670Z   \n",
       "\n",
       "         minutes_since_last_data  is_backfilled  \\\n",
       "2625450                        0              0   \n",
       "2625451                        0              0   \n",
       "2625452                        0              0   \n",
       "2625453                        0              0   \n",
       "2625454                        0              0   \n",
       "\n",
       "         has_original_prev_30_to_60min  has_original_prev_30_to_360min  \n",
       "2625450                              1                               1  \n",
       "2625451                              1                               1  \n",
       "2625452                              1                               1  \n",
       "2625453                              1                               1  \n",
       "2625454                              1                               1  "
      ]
     },
     "execution_count": 4,
     "metadata": {},
     "output_type": "execute_result"
    }
   ],
   "source": [
    "df.tail()"
   ]
  }
 ],
 "metadata": {
  "kernelspec": {
   "display_name": "kz2",
   "language": "python",
   "name": "python3"
  },
  "language_info": {
   "codemirror_mode": {
    "name": "ipython",
    "version": 3
   },
   "file_extension": ".py",
   "mimetype": "text/x-python",
   "name": "python",
   "nbconvert_exporter": "python",
   "pygments_lexer": "ipython3",
   "version": "3.11.10"
  }
 },
 "nbformat": 4,
 "nbformat_minor": 5
}
